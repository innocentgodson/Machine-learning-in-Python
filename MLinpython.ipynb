{
  "nbformat": 4,
  "nbformat_minor": 0,
  "metadata": {
    "colab": {
      "provenance": [],
      "authorship_tag": "ABX9TyM4QjP3/iSCsdPHJiRL0zGQ",
      "include_colab_link": true
    },
    "kernelspec": {
      "name": "python3",
      "display_name": "Python 3"
    },
    "language_info": {
      "name": "python"
    }
  },
  "cells": [
    {
      "cell_type": "markdown",
      "metadata": {
        "id": "view-in-github",
        "colab_type": "text"
      },
      "source": [
        "<a href=\"https://colab.research.google.com/github/innocentgodson/Machine-learning-in-Python/blob/main/MLinpython.ipynb\" target=\"_parent\"><img src=\"https://colab.research.google.com/assets/colab-badge.svg\" alt=\"Open In Colab\"/></a>"
      ]
    },
    {
      "cell_type": "markdown",
      "source": [
        "**Importing Required Libraries**"
      ],
      "metadata": {
        "id": "rbGzC5_PM5Zx"
      }
    },
    {
      "cell_type": "code",
      "execution_count": 11,
      "metadata": {
        "id": "4PrXp8YIVbjd"
      },
      "outputs": [],
      "source": [
        "import pandas as pd\n",
        "import numpy as np\n",
        "from sklearn import datasets\n",
        "from sklearn.model_selection import train_test_split\n",
        "from sklearn.linear_model import LinearRegression, LogisticRegression\n",
        "from sklearn.metrics import (\n",
        "    confusion_matrix\n",
        ")\n",
        "from sklearn.decomposition import PCA\n",
        "import matplotlib.pyplot as plt\n",
        "import plotly.express as px"
      ]
    },
    {
      "cell_type": "markdown",
      "source": [
        "# **Training and Testing Data Splits**"
      ],
      "metadata": {
        "id": "x-3oJRXPTFa9"
      }
    },
    {
      "cell_type": "markdown",
      "source": [
        "<img src=\"https://cf-courses-data.s3.us.cloud-object-storage.appdomain.cloud/IBMSkillsNetwork-ML0104EN-SkillsNetwork/Screenshot%202023-06-17%20at%203.35.18%20AM.png\">\n",
        "\n",
        "In this example, we generate a dataset with 100 samples and 5 features using numpy.random.rand. We also generate corresponding target labels (y) using numpy.random.randint. We then use train_test_split from sklearn.model_selection to split the data into training and testing sets, with a test size of 20% (test_size=0.2). Finally, we print the shapes of the training and testing sets to verify the sizes of the splits."
      ],
      "metadata": {
        "id": "_L1RpkvRNLCE"
      }
    },
    {
      "cell_type": "code",
      "source": [
        "# Set random seed for reproducibility\n",
        "np.random.seed(42)\n",
        "\n",
        "# Create a dataset with 100 samples and 5 features\n",
        "num_samples = 100\n",
        "num_features = 5\n",
        "X = np.random.rand(num_samples, num_features)\n",
        "y = np.random.randint(0, 2, size=num_samples)\n",
        "\n",
        "# Split the dataset into training and testing sets\n",
        "X_train, X_test, y_train, y_test = train_test_split(X, y, test_size=0.2, random_state=42)\n",
        "\n",
        "# Print the shapes of the training and testing sets\n",
        "print(\"Training set shape:\", X_train.shape, y_train.shape)\n",
        "print(\"Testing set shape:\", X_test.shape, y_test.shape)"
      ],
      "metadata": {
        "colab": {
          "base_uri": "https://localhost:8080/"
        },
        "id": "Rpp84558FWV-",
        "outputId": "6efccc92-42fc-4139-b77c-9eb992318239"
      },
      "execution_count": 12,
      "outputs": [
        {
          "output_type": "stream",
          "name": "stdout",
          "text": [
            "Training set shape: (80, 5) (80,)\n",
            "Testing set shape: (20, 5) (20,)\n"
          ]
        }
      ]
    },
    {
      "cell_type": "markdown",
      "source": [
        "## Supervised Learning"
      ],
      "metadata": {
        "id": "lwLraTSBXaaM"
      }
    },
    {
      "cell_type": "markdown",
      "source": [
        "### Classification Models"
      ],
      "metadata": {
        "id": "-QMbpmqcXRtl"
      }
    },
    {
      "cell_type": "markdown",
      "source": [
        " Here's an explanation of the metrics used for the classification model we will build:\n",
        " #### 1. Confusion Matrix:\n",
        " The confusion matrix provides a summary of the model's performance by showing the counts of true positive, true negative, false positive, and false negative predictions.\n",
        "\n",
        "![Pix.PNG](data:image/png;base64,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)\n",
        "\n",
        "#### 2. Accuracy:\n",
        "Accuracy measures the proportion of correct predictions out of the total predictions. It is calculated by dividing the sum of true positives and true negatives by the total number of samples.\n",
        "\n",
        "`Accuracy = (True Positives + True Negatives) / (True Positives + True Negatives + False Positives + False Negatives)`\n",
        "\n",
        "#### 3. Precision:\n",
        "Precision quantifies the model's ability to correctly predict positive samples. It is the ratio of true positives to the sum of true positives and false positives. Precision reflects the model's accuracy when it predicts positive.\n",
        "\n",
        "`Precision = True Positives / (True Positives + False Positives)`\n",
        "\n",
        "#### 4. Recall (Sensitivity or True Positive Rate):\n",
        "Recall, also known as sensitivity or true positive rate, measures the model's ability to correctly identify positive samples. It is the ratio of true positives to the sum of true positives and false negatives. Recall reflects the model's ability to capture all positive samples.\n",
        "\n",
        "`Recall = True Positives / (True Positives + False Negatives)`\n",
        "\n",
        "#### 5. Specificity (True Negative Rate):\n",
        "Specificity, also known as true negative rate, measures the model's ability to correctly identify negative samples. It is the ratio of true negatives to the sum of true negatives and false positives. Specificity reflects the model's accuracy when it predicts negative.\n",
        "\n",
        "`Specificity = True Negatives / (True Negatives + False Positives)`\n",
        "\n",
        "#### 6. F1 Score:\n",
        "The F1 score is the harmonic mean of precision and recall. It provides a single metric that balances both precision and recall. The F1 score is useful when there is an uneven class distribution or when both precision and recall are equally important.\n",
        "\n",
        "`F1 Score = 2 * (Precision * Recall) / (Precision + Recall)`"
      ],
      "metadata": {
        "id": "xhjLSfOIOnhW"
      }
    },
    {
      "cell_type": "code",
      "source": [
        "# Set random seed for reproducibility\n",
        "np.random.seed(42)\n",
        "\n",
        "# Generate random data\n",
        "X = np.random.rand(200, 4)  # Input features\n",
        "y = np.random.randint(0, 2, size=200)  # Binary target variable\n",
        "\n",
        "# Split the data into training and testing sets\n",
        "X_train, X_test, y_train, y_test = train_test_split(X, y, test_size=0.2, random_state=42)\n",
        "\n",
        "# Create logistic regression model\n",
        "model = LogisticRegression()\n",
        "\n",
        "# Fit the model on the training data\n",
        "model.fit(X_train, y_train)\n",
        "\n",
        "# Make predictions on the testing set\n",
        "y_pred = model.predict(X_test)\n",
        "\n",
        "# Evaluate the model's performance\n",
        "# Confusion Matrix\n",
        "cm = confusion_matrix(y_test, y_pred)\n",
        "\n",
        "# True Positives\n",
        "tp = cm[1, 1]\n",
        "# False Positives\n",
        "fp = cm[0, 1]\n",
        "# False Negatives\n",
        "fn = cm[1, 0]\n",
        "# True Negatives\n",
        "tn = cm[0, 0]\n",
        "\n",
        "# Accuracy\n",
        "accuracy = (tp + tn) / (tp + tn + fp + fn)\n",
        "# Precision\n",
        "precision = tp / (tp + fp)\n",
        "# Recall\n",
        "recall = tp / (tp + fn)\n",
        "# Specificity\n",
        "specificity = tn / (tn + fp)\n",
        "# F1 Score\n",
        "f1 = 2 * (precision * recall) / (precision + recall)\n",
        "\n",
        "\n",
        "# Print the evaluation metrics\n",
        "print(\"Confusion Matrix:\", cm)\n",
        "print('Accuracy:', accuracy)\n",
        "print('Precision:', precision)\n",
        "print('Recall:', recall)\n",
        "print(\"Specificity:\", specificity)\n",
        "print('F1 Score:', f1)"
      ],
      "metadata": {
        "colab": {
          "base_uri": "https://localhost:8080/"
        },
        "id": "hCp84wM7JzHE",
        "outputId": "56eb802b-825a-4116-8dc1-998f67c558ae"
      },
      "execution_count": 13,
      "outputs": [
        {
          "output_type": "stream",
          "name": "stdout",
          "text": [
            "Confusion Matrix: [[20  3]\n",
            " [13  4]]\n",
            "Accuracy: 0.6\n",
            "Precision: 0.5714285714285714\n",
            "Recall: 0.23529411764705882\n",
            "Specificity: 0.8695652173913043\n",
            "F1 Score: 0.3333333333333333\n"
          ]
        }
      ]
    },
    {
      "cell_type": "markdown",
      "source": [
        "**2.**  **Regression Models**"
      ],
      "metadata": {
        "id": "mawavJyCU_Lo"
      }
    },
    {
      "cell_type": "markdown",
      "source": [
        "Here's an explanation of the metrics used for the regression model we will build:\n",
        "\n",
        "#### 1. Mean Squared Error (MSE):\n",
        "MSE measures the average squared difference between the predicted values and the actual values. It is calculated as follows:\n",
        "\n",
        "`MSE = (1/n) * Σ(y_actual - y_predicted)^2`\n",
        "\n",
        "where:\n",
        "\n",
        "- `MSE` represents the Mean Squared Error.\n",
        "- `n` is the total number of data points.\n",
        "- `Σ` denotes the summation symbol.\n",
        "- `y_actual` represents the actual values of the target variable.\n",
        "- `y_predicted` represents the predicted values from the linear regression model.\n",
        "In the code, `mean_squared_error(y_test, y_pred)` calculates the MSE for the dataset using the test set.\n",
        "\n",
        "#### 2. Root Mean Squared Error (RMSE):\n",
        "RMSE is the square root of the MSE, and it provides a measure of the average difference between the predicted values and the actual values in the original units. The formula for RMSE is:\n",
        "\n",
        "`RMSE = sqrt(MSE)`\n",
        "\n",
        "In the code, `mean_squared_error(y_test, y_pred)` calculates the RMSE for the dataset.\n",
        "\n",
        "#### 3. Mean Absolute Error (MAE):\n",
        "MAE measures the average absolute difference between the predicted values and the actual values. It is calculated as:\n",
        "\n",
        "`MAE = (1/n) * Σ|y_actual - y_predicted|`\n",
        "\n",
        "In the code, `mean_absolute_error(y_test, y_pred)` calculates the MAE for the dataset.\n",
        "\n",
        "#### 4. R-Squared (R^2):\n",
        "R-Squared, also known as the coefficient of determination, measures the proportion of the total variation in the target variable that can be explained by the linear regression model. It ranges from 0 to 1, with a higher value indicating a better fit. The formula for R-Squared is:\n",
        "\n",
        "`R^2 = 1 - (SSR / SST)`\n",
        "\n",
        "where:\n",
        "\n",
        "- `R^2` represents the R-Squared score.\n",
        "- `SSR` is the sum of squared residuals (the sum of squared differences between the predicted values and the actual values).\n",
        "- `SST` is the total sum of squares (the sum of squared differences between the actual values and their mean).\n",
        "In the code, `r2_score(y_test, y_pred)` calculates the R^2 score for the dataset."
      ],
      "metadata": {
        "id": "USjyJED-VkOu"
      }
    },
    {
      "cell_type": "code",
      "source": [
        "import numpy as np\n",
        "from sklearn.model_selection import train_test_split\n",
        "from sklearn.linear_model import LinearRegression\n",
        "from sklearn.metrics import mean_squared_error, mean_absolute_error, r2_score\n",
        "\n",
        "# Set random seed for reproducibility\n",
        "np.random.seed(42)\n",
        "\n",
        "# Generate random data\n",
        "X = np.random.rand(200, 1)  # Input feature\n",
        "y = 2 + 3 * X + np.random.randn(200, 1)  # True underlying relationship + random noise\n",
        "\n",
        "# Split the data into training and testing sets\n",
        "X_train, X_test, y_train, y_test = train_test_split(X, y, test_size=0.2, random_state=42)\n",
        "\n",
        "# Create linear regression model\n",
        "model = LinearRegression()\n",
        "\n",
        "# Fit the model on the training data\n",
        "model.fit(X_train, y_train)\n",
        "\n",
        "# Make predictions on the testing set\n",
        "y_pred = model.predict(X_test)\n",
        "\n",
        "# Evaluate the model's performance\n",
        "mse = mean_squared_error(y_test, y_pred)\n",
        "rmse = mean_squared_error(y_test, y_pred)\n",
        "mae = mean_absolute_error(y_test, y_pred)\n",
        "r2 = r2_score(y_test, y_pred)\n",
        "\n",
        "# Print the evaluation metrics\n",
        "print('Mean Squared Error:', mse)\n",
        "print(f'Root Mean Squared Error: {rmse:.2f}')\n",
        "print('Mean Absolute Error:', mae)\n",
        "print('R-squared:', r2)"
      ],
      "metadata": {
        "colab": {
          "base_uri": "https://localhost:8080/"
        },
        "id": "x_IUzRtieEHw",
        "outputId": "28309760-2a4c-47c4-89de-9f4f7198eb4e"
      },
      "execution_count": 14,
      "outputs": [
        {
          "output_type": "stream",
          "name": "stdout",
          "text": [
            "Mean Squared Error: 1.0846238625454692\n",
            "Root Mean Squared Error: 1.08\n",
            "Mean Absolute Error: 0.8387402733729706\n",
            "R-squared: 0.240964423634343\n"
          ]
        }
      ]
    },
    {
      "cell_type": "markdown",
      "source": [
        "### **Unsupervised Learning**\n",
        "Dimensionality Reduction Using Principal Component Analysis (PCA)"
      ],
      "metadata": {
        "id": "Hc29_vi-easV"
      }
    },
    {
      "cell_type": "markdown",
      "source": [
        "PCA (Principal Component Analysis) is a dimensionality reduction technique. It is commonly used to reduce the number of features or variables in a dataset while retaining most of the information present in the original data. Performing PCA can sometimes lower accuracy because it involves reducing the dimensionality of the data by projecting it onto a lower-dimensional subspace. This reduction in dimensionality can result in some loss of information, which may affect the performance of certain algorithms that rely heavily on the original feature space.\n",
        "\n",
        "Despite potentially lowering accuracy, PCA is still widely used for the following reasons:\n",
        "\n",
        "Dimensionality reduction: Simplifies high-dimensional data by reducing the number of features, making analysis more manageable.\n",
        "Feature interpretation: Transforms features into uncorrelated principal components, revealing key contributors to variance and underlying data structure.\n",
        "Noise reduction: Filters out noisy or irrelevant features, enhancing model robustness by focusing on informative aspects.\n",
        "Computational efficiency: Reduces memory, storage, and computation requirements, making complex algorithms more efficient and scalable, especially for large datasets.\n",
        "Visualization: Enables effective visualization of high-dimensional data in lower-dimensional spaces, facilitating exploration and communication of insights."
      ],
      "metadata": {
        "id": "yEejaCJje471"
      }
    },
    {
      "cell_type": "code",
      "source": [
        "# Step 1: Load the iris dataset from plotly.express\n",
        "df = px.data.iris()\n",
        "\n",
        "# Extract features and target variable\n",
        "X = df.drop('species', axis=1).values\n",
        "y = df['species'].values\n",
        "\n",
        "\n",
        "# Logistic regression on the original dataset\n",
        "X_train, X_test, y_train, y_test = train_test_split(X, y, test_size=0.3, random_state=42)\n",
        "print(\"Original shape: \", X_train.shape)\n",
        "lr_original = LogisticRegression()\n",
        "lr_original.fit(X_train, y_train)\n",
        "y_pred_original = lr_original.predict(X_test)\n",
        "cm = confusion_matrix(y_test, y_pred_original)\n",
        "tp = cm[1, 1]  # True Positives\n",
        "fp = cm[0, 1]  # False Positives\n",
        "fn = cm[1, 0]  # False Negatives\n",
        "tn = cm[0, 0]  # True Negatives\n",
        "accuracy_original = (tp + tn) / (tp + tn + fp + fn)\n",
        "print('Accuracy on original dataset:', accuracy_original)\n",
        "\n",
        "# Perform PCA\n",
        "covar_matrix = PCA(n_components=2) # The n_components parameter determines the number of dimensions the data will be reduced to.\n",
        "X_train_transformed = covar_matrix.fit_transform(X_train) # fits the PCA model to the training data X_train and simultaneously applies the transformation.\n",
        "print(\"Transformed shape: \", X_train_transformed.shape)\n",
        "X_test_transformed = covar_matrix.transform(X_test) # projects the testing data onto the same reduced feature space as the training data\n",
        "variance = covar_matrix.explained_variance_ratio_  # Calculate variance ratios\n",
        "var = np.cumsum(np.round(covar_matrix.explained_variance_ratio_, decimals=6) * 100)  # Cumulative sum of variance explained with [n] features\n",
        "\n",
        "# Plot explained variance\n",
        "plt.ylabel('Cumulative Explained Variance')\n",
        "plt.xlabel('Number of Components')\n",
        "plt.title('PCA Analysis')\n",
        "plt.plot(var)\n",
        "plt.show()\n",
        "\n",
        "# Logistic regression on the transformed dataset\n",
        "lr_transformed = LogisticRegression()\n",
        "lr_transformed.fit(X_train_transformed, y_train)\n",
        "y_pred_transformed = lr_transformed.predict(X_test_transformed)\n",
        "cm_transformed = confusion_matrix(y_test, y_pred_transformed)\n",
        "tp = cm_transformed[1, 1]  # True Positives\n",
        "fp = cm_transformed[0, 1]  # False Positives\n",
        "fn = cm_transformed[1, 0]  # False Negatives\n",
        "tn = cm_transformed[0, 0]  # True Negatives\n",
        "accuracy_transformed = (tp + tn) / (tp + tn + fp + fn)\n",
        "print('Accuracy on transformed dataset:', accuracy_transformed)"
      ],
      "metadata": {
        "colab": {
          "base_uri": "https://localhost:8080/",
          "height": 541
        },
        "id": "OTJbHmXhfL_c",
        "outputId": "22e50023-2522-491f-fb75-b37771cadf77"
      },
      "execution_count": 15,
      "outputs": [
        {
          "output_type": "stream",
          "name": "stdout",
          "text": [
            "Original shape:  (105, 5)\n",
            "Accuracy on original dataset: 1.0\n",
            "Transformed shape:  (105, 2)\n"
          ]
        },
        {
          "output_type": "display_data",
          "data": {
            "text/plain": [
              "<Figure size 640x480 with 1 Axes>"
            ],
            "image/png": "[encoded data removed]"
          },
          "metadata": {}
        },
        {
          "output_type": "stream",
          "name": "stdout",
          "text": [
            "Accuracy on transformed dataset: 1.0\n"
          ]
        }
      ]
    },
    {
      "cell_type": "markdown",
      "source": [
        "we used the fit_transform() method of PCA on the training set only instead of directly applying transform() to both the training and testing sets in the above code. This is because the fit_transform() method of PCA is used on the training set to learn the transformation based on its statistical properties. Applying transform() directly to the testing set would not utilize the information learned from the training set and could lead to inconsistent transformations, making it difficult to compare and interpret the results."
      ],
      "metadata": {
        "id": "6h9-ztrKfYmA"
      }
    }
  ]
}